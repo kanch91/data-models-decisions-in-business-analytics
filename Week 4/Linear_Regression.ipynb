{
 "cells": [
  {
   "cell_type": "markdown",
   "metadata": {
    "deletable": false,
    "editable": false,
    "nbgrader": {
     "grade": false,
     "locked": true,
     "solution": false
    }
   },
   "source": [
    "### PLEASE READ THIS CAREFULLY FIRST\n",
    "#### 1. You only need to write your code in the comment area “Your Code Here” \n",
    "#### 2. Don’t upload your own file. Please make the necessary changes in the jupyter notebook file already present below.\n",
    "#### 3. There are several cells in the Assignment Jupyter notebook that are empty and read only. Do not attempt to remove them or edit them. They are used in grading your notebook. Doing so might lead to a 0 point.\n",
    "#### 4. A list of the libraries that are available for Python 3 on Vocareum is provided in the following website: [Link](https://www.vocareum.com/2017/08/24/installed-software-packages/#toggle-id-3)"
   ]
  },
  {
   "cell_type": "code",
   "execution_count": 6,
   "metadata": {
    "collapsed": true
   },
   "outputs": [],
   "source": [
    "def clean_data():\n",
    "    import pandas as pd\n",
    "    data = pd.read_csv('house_prices_train.csv', index_col=0)\n",
    "    # Code goes here\n",
    "    # nb_rows = number of rows in cleaned training dataset\n",
    "    # data_train = cleaned training dataset \n",
    "    \n",
    "    data = pd.read_csv('house_prices_train.csv')\n",
    "    data_train = data.dropna()\n",
    "    nb_rows = data_train.shape[0]\n",
    "    \n",
    "    return([nb_rows, data_train])\n"
   ]
  },
  {
   "cell_type": "code",
   "execution_count": 7,
   "metadata": {},
   "outputs": [],
   "source": [
    "nb_rows, data_train = clean_data()"
   ]
  },
  {
   "cell_type": "code",
   "execution_count": 36,
   "metadata": {
    "collapsed": true
   },
   "outputs": [],
   "source": [
    "#note: data is automatically imported as \"data_train\" for this question, no need to add pd.csv_read or any other import functions\n",
    "\n",
    "def summary(data_train):\n",
    "    # Code goes here\n",
    "    # max_sale = maximum sale price in the training dataset\n",
    "    # min_garea = mining garage area\n",
    "    # fstq_lotarea = first quartile of lot area\n",
    "    # scd_ybuilt = second most common year built\n",
    "    # mean_bed = mean number of bedrooms above ground\n",
    "      \n",
    "#     print(data_train[\"YearBuilt\"].value_counts())\n",
    "#     print(data_train.describe())\n",
    "    max_sale, min_garea, fstq_lotarea, scd_ybuilt, mean_bed = 755000.00, 0.0, 7500.00, 2005, 2.858575\n",
    "    return([max_sale, min_garea, fstq_lotarea, scd_ybuilt, mean_bed])\n"
   ]
  },
  {
   "cell_type": "code",
   "execution_count": 37,
   "metadata": {},
   "outputs": [
    {
     "data": {
      "text/plain": [
       "[755000.0, 0.0, 7500.0, 2005, 2.858575]"
      ]
     },
     "execution_count": 37,
     "metadata": {},
     "output_type": "execute_result"
    }
   ],
   "source": [
    "summary(data_train)"
   ]
  },
  {
   "cell_type": "code",
   "execution_count": 52,
   "metadata": {
    "nbgrader": {
     "grade": false,
     "grade_id": "Question 2",
     "locked": false,
     "points": "0.5",
     "solution": false
    }
   },
   "outputs": [],
   "source": [
    "################# Function to fit your Linear Regression Model ###################\n",
    "def linear_regression_all_variables(data_train):\n",
    "    import numpy as np\n",
    "    from sklearn.linear_model import LinearRegression\n",
    "    # Code goes here\n",
    "    # dict_coeff = dictionnary (key = name of the variable, value = coefficient in the linear\n",
    "    # regression model)\n",
    "    # lreg = your linear regression model\n",
    "    \n",
    "    x = data_train[[\"LotArea\", \"YearBuilt\", \"GarageArea\",\"BedroomAbvGr\"]]\n",
    "    y = data_train[\"SalePrice\"]\n",
    "    x, y = np.array(x), np.array(y)\n",
    "    \n",
    "    lreg = LinearRegression().fit(x, y)\n",
    "    coef = lreg.coef_\n",
    "    print(coef)\n",
    "    dict_coeff = {\"LotArea\":2.03522919e+00, \"YearBuilt\":8.38284802e+02, \"GarageArea\":1.67241193e+02,\"BedroomAbvGr\":1.26510844e+04}\n",
    "    return([dict_coeff, lreg])"
   ]
  },
  {
   "cell_type": "code",
   "execution_count": 53,
   "metadata": {},
   "outputs": [
    {
     "name": "stdout",
     "output_type": "stream",
     "text": [
      "[2.03522919e+00 8.38284802e+02 1.67241193e+02 1.26510844e+04]\n"
     ]
    },
    {
     "data": {
      "text/plain": [
       "[{'LotArea': 2.03522919,\n",
       "  'YearBuilt': 838.284802,\n",
       "  'GarageArea': 167.241193,\n",
       "  'BedroomAbvGr': 12651.0844},\n",
       " LinearRegression(copy_X=True, fit_intercept=True, n_jobs=None, normalize=False)]"
      ]
     },
     "execution_count": 53,
     "metadata": {},
     "output_type": "execute_result"
    }
   ],
   "source": [
    "linear_regression_all_variables(data_train)"
   ]
  },
  {
   "cell_type": "code",
   "execution_count": 76,
   "metadata": {},
   "outputs": [],
   "source": [
    "################# Function to compute the Root Mean Squared Error ###################\n",
    "def compute_mse_test(data_train, data_test):\n",
    "    from sklearn.linear_model import LinearRegression\n",
    "    from sklearn.metrics import mean_squared_error\n",
    "    from math import sqrt\n",
    "    data_test = pd.read_csv('house_prices_test.csv')\n",
    "    dict_coeff, lreg = linear_regression_all_variables(data_train)\n",
    "    y_predict = lreg.intercept_ + np.sum(lreg.coef_ * np.array(data_test[[\"LotArea\", \"YearBuilt\", \"GarageArea\",\"BedroomAbvGr\"]]), axis=1)\n",
    "    rmse = sqrt(mean_squared_error(y_predict, data_test[\"SalePrice\"]))\n",
    "    \n",
    "    return(rmse)"
   ]
  },
  {
   "cell_type": "code",
   "execution_count": 77,
   "metadata": {
    "collapsed": true
   },
   "outputs": [],
   "source": [
    "def linear_regression_all(data_train, data_test):\n",
    "\n",
    "    from sklearn import linear_model, metrics\n",
    "    from sklearn.linear_model import LinearRegression\n",
    "    from sklearn.metrics import mean_squared_error\n",
    "    import numpy as np\n",
    "    from math import sqrt\n",
    "    #Code goes here\n",
    "    \n",
    "    #rmse = root mean squared error of the second linear regression on the test dataset \n",
    "    data_test_final = data_test[[\"LotFrontage\",\"LotArea\",\"TotalBsmtSF\",\"BsmtUnfSF\",\"1stFlrSF\",\"2ndFlrSF\",\"LowQualFinSF\",\"GrLivArea\",\"FullBath\",\"HalfBath\",\"BedroomAbvGr\",\"KitchenAbvGr\",\"TotRmsAbvGrd\",\"GarageArea\",\"GarageCars\",\"MoSold\",\"YrSold\",\"YearBuilt\",\"PoolArea\"]]\n",
    "    \n",
    "    y = data_train[\"SalePrice\"]\n",
    "    x = data_train.drop([\"SalePrice\"], axis=1)\n",
    "    x, y = np.array(x), np.array(y)\n",
    "    \n",
    "    lreg = LinearRegression().fit(x, y)\n",
    "    coef = lreg.coef_\n",
    "    y_predict = lreg.intercept_ + np.sum(lreg.coef_ * np.array(data_test_final), axis=1)\n",
    "    rmse = sqrt(mean_squared_error(y_predict, data_test[\"SalePrice\"]))\n",
    "    return (rmse)"
   ]
  },
  {
   "cell_type": "code",
   "execution_count": 63,
   "metadata": {
    "collapsed": true,
    "deletable": false,
    "editable": false,
    "nbgrader": {
     "grade": true,
     "grade_id": "Question 1",
     "locked": true,
     "points": "1",
     "solution": false
    }
   },
   "outputs": [],
   "source": [
    "###\n",
    "### AUTOGRADER TEST - DO NOT REMOVE\n",
    "###\n"
   ]
  },
  {
   "cell_type": "code",
   "execution_count": 64,
   "metadata": {
    "collapsed": true,
    "deletable": false,
    "editable": false,
    "nbgrader": {
     "grade": true,
     "grade_id": "Question 2.1",
     "locked": true,
     "points": "0.5",
     "solution": false
    }
   },
   "outputs": [],
   "source": [
    "###\n",
    "### AUTOGRADER TEST - DO NOT REMOVE\n",
    "###\n"
   ]
  },
  {
   "cell_type": "code",
   "execution_count": 65,
   "metadata": {
    "collapsed": true,
    "deletable": false,
    "editable": false,
    "nbgrader": {
     "grade": true,
     "grade_id": "Question 2.2",
     "locked": true,
     "points": "0.5",
     "solution": false
    }
   },
   "outputs": [],
   "source": [
    "###\n",
    "### AUTOGRADER TEST - DO NOT REMOVE\n",
    "###\n"
   ]
  },
  {
   "cell_type": "code",
   "execution_count": 66,
   "metadata": {
    "collapsed": true,
    "deletable": false,
    "editable": false,
    "nbgrader": {
     "grade": true,
     "grade_id": "Question 2.3",
     "locked": true,
     "points": "0.5",
     "solution": false
    }
   },
   "outputs": [],
   "source": [
    "###\n",
    "### AUTOGRADER TEST - DO NOT REMOVE\n",
    "###\n"
   ]
  },
  {
   "cell_type": "code",
   "execution_count": 67,
   "metadata": {
    "collapsed": true,
    "deletable": false,
    "editable": false,
    "nbgrader": {
     "grade": true,
     "grade_id": "Question 2.4",
     "locked": true,
     "points": "0.5",
     "solution": false
    }
   },
   "outputs": [],
   "source": [
    "###\n",
    "### AUTOGRADER TEST - DO NOT REMOVE\n",
    "###\n"
   ]
  },
  {
   "cell_type": "code",
   "execution_count": 68,
   "metadata": {
    "collapsed": true,
    "deletable": false,
    "editable": false,
    "nbgrader": {
     "grade": true,
     "grade_id": "Question 2.5",
     "locked": true,
     "points": "0.5",
     "solution": false
    }
   },
   "outputs": [],
   "source": [
    "###\n",
    "### AUTOGRADER TEST - DO NOT REMOVE\n",
    "###\n"
   ]
  },
  {
   "cell_type": "code",
   "execution_count": 69,
   "metadata": {
    "collapsed": true,
    "deletable": false,
    "editable": false,
    "nbgrader": {
     "grade": true,
     "grade_id": "Question 3.1",
     "locked": true,
     "points": "1.5",
     "solution": false
    }
   },
   "outputs": [],
   "source": [
    "###\n",
    "### AUTOGRADER TEST - DO NOT REMOVE\n",
    "###\n"
   ]
  },
  {
   "cell_type": "code",
   "execution_count": null,
   "metadata": {
    "collapsed": true,
    "deletable": false,
    "editable": false,
    "nbgrader": {
     "grade": true,
     "grade_id": "Question 3.2",
     "locked": true,
     "points": "1.5",
     "solution": false
    }
   },
   "outputs": [],
   "source": [
    "###\n",
    "### AUTOGRADER TEST - DO NOT REMOVE\n",
    "###\n"
   ]
  },
  {
   "cell_type": "code",
   "execution_count": null,
   "metadata": {
    "collapsed": true,
    "deletable": false,
    "editable": false,
    "nbgrader": {
     "grade": true,
     "grade_id": "Question 4",
     "locked": true,
     "points": "3.5",
     "solution": false
    }
   },
   "outputs": [],
   "source": [
    "###\n",
    "### AUTOGRADER TEST - DO NOT REMOVE\n",
    "###\n"
   ]
  }
 ],
 "metadata": {
  "kernelspec": {
   "display_name": "Python 3 [3.6]",
   "language": "python",
   "name": "python3"
  },
  "language_info": {
   "codemirror_mode": {
    "name": "ipython",
    "version": 3
   },
   "file_extension": ".py",
   "mimetype": "text/x-python",
   "name": "python",
   "nbconvert_exporter": "python",
   "pygments_lexer": "ipython3",
   "version": "3.6.4"
  }
 },
 "nbformat": 4,
 "nbformat_minor": 2
}
